{
 "cells": [
  {
   "cell_type": "code",
   "execution_count": 18,
   "metadata": {
    "collapsed": true,
    "pycharm": {
     "name": "#%%\n"
    }
   },
   "outputs": [],
   "source": [
    "#Импорты\n",
    "import numpy as np\n",
    "import math as m\n",
    "import matplotlib as mpl\n",
    "import random\n",
    "\n",
    "#Основные переменные\n",
    "N = 8                       #Количество БИТ информации\n",
    "freq = 10 ** 6              #Частота несущего сигнала\n",
    "fs = 15 * freq              #Частота семплирования\n",
    "freq_symb = 5               #Количество отсчетов сигнала на бит\n",
    "diviation = 1.5 * 10 ** 6   #Частотная дивиация\n",
    "phase_bpsk = m.pi / 2      #Вращение частоты, BPSK\n",
    "phase_qpsk = m.pi / 4      #Вращение частоты, QPSK"
   ]
  },
  {
   "cell_type": "code",
   "execution_count": 17,
   "outputs": [],
   "source": [
    "#Генерация случайной последовательности 0 и 1\n",
    "i = 0\n",
    "information = []\n",
    "for i in range (N):\n",
    "    information.append(random.randint(0,1))"
   ],
   "metadata": {
    "collapsed": false,
    "pycharm": {
     "name": "#%%\n"
    }
   }
  },
  {
   "cell_type": "code",
   "execution_count": null,
   "outputs": [],
   "source": [],
   "metadata": {
    "collapsed": false,
    "pycharm": {
     "name": "#%%\n"
    }
   }
  }
 ],
 "metadata": {
  "kernelspec": {
   "display_name": "Python 3",
   "language": "python",
   "name": "python3"
  },
  "language_info": {
   "codemirror_mode": {
    "name": "ipython",
    "version": 2
   },
   "file_extension": ".py",
   "mimetype": "text/x-python",
   "name": "python",
   "nbconvert_exporter": "python",
   "pygments_lexer": "ipython2",
   "version": "2.7.6"
  }
 },
 "nbformat": 4,
 "nbformat_minor": 0
}