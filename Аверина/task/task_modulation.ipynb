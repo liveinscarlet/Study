{
 "cells": [
  {
   "cell_type": "code",
   "execution_count": 9,
   "metadata": {
    "collapsed": true
   },
   "outputs": [],
   "source": [
    "#Импорты\n",
    "import numpy as np\n",
    "import math as m\n",
    "import matplotlib as mpl\n",
    "import random\n",
    "import ModulationPy as mod\n",
    "\n",
    "#Основные переменные\n",
    "N = 8                       #Количество БИТ информации\n",
    "freq = 2 * m.pi * 10 ** 3              #Частота несущего сигнала\n",
    "fs = 15 * freq              #Частота семплирования\n",
    "freq_symb = 5               #Количество отсчетов сигнала на бит\n",
    "diviation = 1.5 * 10 ** 6   #Частотная дивиация\n",
    "phase_bpsk = m.pi / 2      #Вращение частоты, BPSK\n",
    "phase_qpsk = m.pi / 4      #Вращение частоты, QPSK\n",
    "phi_0 = 0                  #Начальная фаза несущей\n",
    "t = np.linspace(0, 2 * freq, 1000);"
   ]
  },
  {
   "cell_type": "code",
   "execution_count": 10,
   "outputs": [
    {
     "ename": "KeyboardInterrupt",
     "evalue": "",
     "output_type": "error",
     "traceback": [
      "\u001B[1;31m---------------------------------------------------------------------------\u001B[0m",
      "\u001B[1;31mKeyboardInterrupt\u001B[0m                         Traceback (most recent call last)",
      "Cell \u001B[1;32mIn[10], line 9\u001B[0m\n\u001B[0;32m      6\u001B[0m     information\u001B[38;5;241m.\u001B[39mappend(random\u001B[38;5;241m.\u001B[39mrandint(\u001B[38;5;241m0\u001B[39m,\u001B[38;5;241m1\u001B[39m))\n\u001B[0;32m      8\u001B[0m modulation_sig_BPSK \u001B[38;5;241m=\u001B[39m []\n\u001B[1;32m----> 9\u001B[0m \u001B[38;5;28;01mwhile\u001B[39;00m i\u001B[38;5;241m<\u001B[39m\u001B[38;5;28mlen\u001B[39m(t):\n\u001B[0;32m     10\u001B[0m     \u001B[38;5;28;01mwhile\u001B[39;00m j \u001B[38;5;241m<\u001B[39m N:\n\u001B[0;32m     11\u001B[0m         modulation_sig_BPSK\u001B[38;5;241m.\u001B[39mappend(information[j])\n",
      "\u001B[1;31mKeyboardInterrupt\u001B[0m: "
     ]
    }
   ],
   "source": [
    "#Генерация случайной последовательности 0 и 1\n",
    "i = 0\n",
    "j = 0\n",
    "information = []\n",
    "for i in range (N):\n",
    "    information.append(random.randint(0,1))\n"
   ],
   "metadata": {
    "collapsed": false
   }
  },
  {
   "cell_type": "code",
   "execution_count": null,
   "outputs": [],
   "source": [
    "# QPSK-модуляция\n",
    "carrier = np.cos(freq * t + phi_0)  #Формирование несущей\n",
    "for i in carrier:\n",
    "    carrier = carrier*\n"
   ],
   "metadata": {
    "collapsed": false
   }
  }
 ],
 "metadata": {
  "kernelspec": {
   "display_name": "Python 3",
   "language": "python",
   "name": "python3"
  },
  "language_info": {
   "codemirror_mode": {
    "name": "ipython",
    "version": 2
   },
   "file_extension": ".py",
   "mimetype": "text/x-python",
   "name": "python",
   "nbconvert_exporter": "python",
   "pygments_lexer": "ipython2",
   "version": "2.7.6"
  }
 },
 "nbformat": 4,
 "nbformat_minor": 0
}
